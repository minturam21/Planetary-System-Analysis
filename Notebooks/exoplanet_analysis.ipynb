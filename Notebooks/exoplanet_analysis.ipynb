{
 "cells": [
  {
   "cell_type": "code",
   "execution_count": null,
   "id": "01477e0c",
   "metadata": {},
   "outputs": [],
   "source": [
    "import pandas as pd"
   ]
  },
  {
   "cell_type": "code",
   "execution_count": null,
   "id": "9147c85e",
   "metadata": {},
   "outputs": [],
   "source": [
    "data = pd.read_csv(r\"F:\\Debye\\Planetary-system-analysis\\Data\\PS_2025.10.22_09.50.39.csv\", comment=\"#\")\n",
    "data.head()"
   ]
  },
  {
   "cell_type": "code",
   "execution_count": null,
   "id": "af6d61da",
   "metadata": {},
   "outputs": [],
   "source": [
    "# Summary of dataset\n",
    "data.info()\n",
    "# Check missing values\n",
    "data.isnull().sum()\n",
    "# Quick statistics\n",
    "data.describe()\n"
   ]
  },
  {
   "cell_type": "code",
   "execution_count": null,
   "id": "ae484225",
   "metadata": {},
   "outputs": [],
   "source": [
    "columns = [\n",
    "    'pl_name', 'hostname', 'pl_rade', 'pl_bmasse', \n",
    "    'pl_orbper', 'st_teff', 'st_rad', 'discoverymethod', 'sy_dist'\n",
    "]\n",
    "data = data[[col for col in columns if col in data.columns]]\n",
    "data.head()"
   ]
  },
  {
   "cell_type": "code",
   "execution_count": null,
   "id": "cd27ffd4",
   "metadata": {},
   "outputs": [],
   "source": [
    "# Remove rows missing both radius and mass\n",
    "data = data.dropna(subset=['pl_rade', 'pl_bmasse'], how='all')\n",
    "\n",
    "# Fill missing temperature with mean\n",
    "if 'st_teff' in data.columns:\n",
    "    data['st_teff'] = data['st_teff'].fillna(data['st_teff'].mean())\n"
   ]
  },
  {
   "cell_type": "code",
   "execution_count": null,
   "id": "fa11155b",
   "metadata": {},
   "outputs": [],
   "source": [
    "import seaborn as sns\n",
    "import matplotlib.pyplot as plt\n",
    "\n",
    "# Scatter: Planet Radius vs Mass\n",
    "sns.scatterplot(x='pl_rade', y='pl_bmasse', data=data)\n",
    "plt.title('Planet Radius vs Planet Mass')\n",
    "plt.xlabel('Radius (Earth Radii)')\n",
    "plt.ylabel('Mass (Earth Masses)')\n",
    "plt.show()\n",
    "\n",
    "# Bar plot: Discovery methods\n",
    "sns.countplot(y='discoverymethod', data=data)\n",
    "plt.title('Number of Planets by Discovery Method')\n",
    "plt.show()\n"
   ]
  },
  {
   "cell_type": "code",
   "execution_count": null,
   "id": "dc64bab1",
   "metadata": {},
   "outputs": [],
   "source": [
    "# Planets by discovery method\n",
    "print(data['discoverymethod'].value_counts())\n",
    "\n",
    "# Correlation between radius and mass\n",
    "print(data[['pl_rade','pl_bmasse']].corr())\n"
   ]
  },
  {
   "cell_type": "code",
   "execution_count": null,
   "id": "b7653bc8",
   "metadata": {},
   "outputs": [],
   "source": [
    "from sklearn.model_selection import train_test_split\n",
    "from sklearn.tree import DecisionTreeClassifier\n",
    "\n",
    "# Example label (Earth-like if radius < 1.5 and mass < 5)\n",
    "data['earth_like'] = ((data['pl_rade'] < 1.5) & (data['pl_bmasse'] < 5)).astype(int)\n",
    "\n",
    "# Select features and labels\n",
    "X = data[['pl_rade', 'pl_bmasse', 'st_teff']].dropna()\n",
    "y = data.loc[X.index, 'earth_like']\n",
    "\n",
    "# Split dataset\n",
    "X_train, X_test, y_train, y_test = train_test_split(X, y, test_size=0.2, random_state=42)\n",
    "\n",
    "# Train decision tree\n",
    "clf = DecisionTreeClassifier(random_state=42)\n",
    "clf.fit(X_train, y_train)\n",
    "\n",
    "# Accuracy\n",
    "print(\"Accuracy:\", clf.score(X_test, y_test))\n"
   ]
  },
  {
   "cell_type": "code",
   "execution_count": null,
   "id": "d6d2fc98",
   "metadata": {},
   "outputs": [],
   "source": []
  }
 ],
 "metadata": {
  "kernelspec": {
   "display_name": "Python 3",
   "language": "python",
   "name": "python3"
  },
  "language_info": {
   "codemirror_mode": {
    "name": "ipython",
    "version": 3
   },
   "file_extension": ".py",
   "mimetype": "text/x-python",
   "name": "python",
   "nbconvert_exporter": "python",
   "pygments_lexer": "ipython3",
   "version": "3.12.10"
  }
 },
 "nbformat": 4,
 "nbformat_minor": 5
}
